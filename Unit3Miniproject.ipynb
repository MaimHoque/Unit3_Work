{
  "nbformat": 4,
  "nbformat_minor": 0,
  "metadata": {
    "colab": {
      "name": "Unit3Miniproject.ipynb",
      "provenance": [],
      "authorship_tag": "ABX9TyPu13Aa6ELhSzHzVr8paD/M",
      "include_colab_link": true
    },
    "kernelspec": {
      "name": "python3",
      "display_name": "Python 3"
    }
  },
  "cells": [
    {
      "cell_type": "markdown",
      "metadata": {
        "id": "view-in-github",
        "colab_type": "text"
      },
      "source": [
        "<a href=\"https://colab.research.google.com/github/MaimHoque/Unit3_Work/blob/main/Unit3Miniproject.ipynb\" target=\"_parent\"><img src=\"https://colab.research.google.com/assets/colab-badge.svg\" alt=\"Open In Colab\"/></a>"
      ]
    },
    {
      "cell_type": "code",
      "metadata": {
        "colab": {
          "base_uri": "https://localhost:8080/"
        },
        "id": "XygsRK2AJWcY",
        "outputId": "ed69787b-d4a3-43b6-df93-f040bd2f3ec2"
      },
      "source": [
        "import pandas as pd\r\n",
        "import numpy as np\r\n",
        "\r\n",
        "df = pd.read_csv('https://raw.githubusercontent.com/nytimes/covid-19-data/master/us-counties.csv')\r\n",
        "\r\n",
        "\r\n",
        "df.columns\r\n",
        "\r\n"
      ],
      "execution_count": 1,
      "outputs": [
        {
          "output_type": "execute_result",
          "data": {
            "text/plain": [
              "Index(['date', 'county', 'state', 'fips', 'cases', 'deaths'], dtype='object')"
            ]
          },
          "metadata": {
            "tags": []
          },
          "execution_count": 1
        }
      ]
    },
    {
      "cell_type": "code",
      "metadata": {
        "colab": {
          "base_uri": "https://localhost:8080/"
        },
        "id": "BoGz_gq1Rq5n",
        "outputId": "87538ff0-1dd9-41ab-8947-c0ae152779c8"
      },
      "source": [
        "df.head"
      ],
      "execution_count": 10,
      "outputs": [
        {
          "output_type": "execute_result",
          "data": {
            "text/plain": [
              "<bound method NDFrame.head of               date      county       state     fips  cases  deaths\n",
              "0       2020-01-21   Snohomish  Washington  53061.0      1     0.0\n",
              "1       2020-01-22   Snohomish  Washington  53061.0      1     0.0\n",
              "2       2020-01-23   Snohomish  Washington  53061.0      1     0.0\n",
              "3       2020-01-24        Cook    Illinois  17031.0      1     0.0\n",
              "4       2020-01-24   Snohomish  Washington  53061.0      1     0.0\n",
              "...            ...         ...         ...      ...    ...     ...\n",
              "959457  2021-01-23  Sweetwater     Wyoming  56037.0   3384    30.0\n",
              "959458  2021-01-23       Teton     Wyoming  56039.0   2870     5.0\n",
              "959459  2021-01-23       Uinta     Wyoming  56041.0   1887    12.0\n",
              "959460  2021-01-23    Washakie     Wyoming  56043.0    852    25.0\n",
              "959461  2021-01-23      Weston     Wyoming  56045.0    609     4.0\n",
              "\n",
              "[959462 rows x 6 columns]>"
            ]
          },
          "metadata": {
            "tags": []
          },
          "execution_count": 10
        }
      ]
    },
    {
      "cell_type": "code",
      "metadata": {
        "colab": {
          "base_uri": "https://localhost:8080/"
        },
        "id": "PZaEhzj3MaRE",
        "outputId": "702cf10c-26ed-4855-fa82-9fa3ddf9e93f"
      },
      "source": [
        "df.groupby(['state'])['cases'].max()\r\n",
        "\r\n",
        "\r\n"
      ],
      "execution_count": 2,
      "outputs": [
        {
          "output_type": "execute_result",
          "data": {
            "text/plain": [
              "state\n",
              "Alabama                       64437\n",
              "Alaska                        24911\n",
              "Arizona                      446652\n",
              "Arkansas                      31871\n",
              "California                  1065309\n",
              "Colorado                      54371\n",
              "Connecticut                   69065\n",
              "Delaware                      42180\n",
              "District of Columbia          35077\n",
              "Florida                      357037\n",
              "Georgia                       78555\n",
              "Guam                           8516\n",
              "Hawaii                        20505\n",
              "Idaho                         43535\n",
              "Illinois                     443600\n",
              "Indiana                       84245\n",
              "Iowa                          46760\n",
              "Kansas                        48224\n",
              "Kentucky                      64311\n",
              "Louisiana                     38873\n",
              "Maine                         10563\n",
              "Maryland                      65178\n",
              "Massachusetts                 97177\n",
              "Michigan                      94716\n",
              "Minnesota                     94138\n",
              "Mississippi                   17675\n",
              "Missouri                      80771\n",
              "Montana                       14948\n",
              "Nebraska                      59958\n",
              "Nevada                       207240\n",
              "New Hampshire                 24175\n",
              "New Jersey                    63563\n",
              "New Mexico                    47587\n",
              "New York                     564245\n",
              "North Carolina                81179\n",
              "North Dakota                  20788\n",
              "Northern Mariana Islands        127\n",
              "Ohio                         101171\n",
              "Oklahoma                      71930\n",
              "Oregon                        29040\n",
              "Pennsylvania                 106132\n",
              "Puerto Rico                   16918\n",
              "Rhode Island                  71172\n",
              "South Carolina                52283\n",
              "South Dakota                  26721\n",
              "Tennessee                     81561\n",
              "Texas                        296521\n",
              "Utah                         126093\n",
              "Vermont                        3824\n",
              "Virgin Islands                 1160\n",
              "Virginia                      56139\n",
              "Washington                    75435\n",
              "West Virginia                 10628\n",
              "Wisconsin                    101352\n",
              "Wyoming                        7885\n",
              "Name: cases, dtype: int64"
            ]
          },
          "metadata": {
            "tags": []
          },
          "execution_count": 2
        }
      ]
    },
    {
      "cell_type": "code",
      "metadata": {
        "id": "QOiSZh9sPZbu",
        "colab": {
          "base_uri": "https://localhost:8080/"
        },
        "outputId": "147be831-f3e5-41c2-ae97-54ac114790c0"
      },
      "source": [
        "df.groupby(['county'])['cases'].max()"
      ],
      "execution_count": 11,
      "outputs": [
        {
          "output_type": "execute_result",
          "data": {
            "text/plain": [
              "county\n",
              "Abbeville                     1682\n",
              "Acadia                        5658\n",
              "Accomack                      2228\n",
              "Ada                          43535\n",
              "Adair                         2651\n",
              "                             ...  \n",
              "Yukon-Koyukuk Census Area      259\n",
              "Yuma                         34140\n",
              "Zapata                        1431\n",
              "Zavala                        1391\n",
              "Ziebach                        334\n",
              "Name: cases, Length: 1930, dtype: int64"
            ]
          },
          "metadata": {
            "tags": []
          },
          "execution_count": 11
        }
      ]
    },
    {
      "cell_type": "code",
      "metadata": {
        "colab": {
          "base_uri": "https://localhost:8080/",
          "height": 419
        },
        "id": "OFB9ZINNSP77",
        "outputId": "f70595d8-bef9-4f93-e371-536548336e62"
      },
      "source": [
        "NYC_df = df[(df['state']=='New York') & (df['county']=='New York City')]\r\n",
        "NYC_df\r\n",
        "\r\n"
      ],
      "execution_count": 19,
      "outputs": [
        {
          "output_type": "execute_result",
          "data": {
            "text/html": [
              "<div>\n",
              "<style scoped>\n",
              "    .dataframe tbody tr th:only-of-type {\n",
              "        vertical-align: middle;\n",
              "    }\n",
              "\n",
              "    .dataframe tbody tr th {\n",
              "        vertical-align: top;\n",
              "    }\n",
              "\n",
              "    .dataframe thead th {\n",
              "        text-align: right;\n",
              "    }\n",
              "</style>\n",
              "<table border=\"1\" class=\"dataframe\">\n",
              "  <thead>\n",
              "    <tr style=\"text-align: right;\">\n",
              "      <th></th>\n",
              "      <th>date</th>\n",
              "      <th>county</th>\n",
              "      <th>state</th>\n",
              "      <th>fips</th>\n",
              "      <th>cases</th>\n",
              "      <th>deaths</th>\n",
              "    </tr>\n",
              "  </thead>\n",
              "  <tbody>\n",
              "    <tr>\n",
              "      <th>416</th>\n",
              "      <td>2020-03-01</td>\n",
              "      <td>New York City</td>\n",
              "      <td>New York</td>\n",
              "      <td>NaN</td>\n",
              "      <td>1</td>\n",
              "      <td>0.0</td>\n",
              "    </tr>\n",
              "    <tr>\n",
              "      <th>448</th>\n",
              "      <td>2020-03-02</td>\n",
              "      <td>New York City</td>\n",
              "      <td>New York</td>\n",
              "      <td>NaN</td>\n",
              "      <td>1</td>\n",
              "      <td>0.0</td>\n",
              "    </tr>\n",
              "    <tr>\n",
              "      <th>482</th>\n",
              "      <td>2020-03-03</td>\n",
              "      <td>New York City</td>\n",
              "      <td>New York</td>\n",
              "      <td>NaN</td>\n",
              "      <td>2</td>\n",
              "      <td>0.0</td>\n",
              "    </tr>\n",
              "    <tr>\n",
              "      <th>518</th>\n",
              "      <td>2020-03-04</td>\n",
              "      <td>New York City</td>\n",
              "      <td>New York</td>\n",
              "      <td>NaN</td>\n",
              "      <td>2</td>\n",
              "      <td>0.0</td>\n",
              "    </tr>\n",
              "    <tr>\n",
              "      <th>565</th>\n",
              "      <td>2020-03-05</td>\n",
              "      <td>New York City</td>\n",
              "      <td>New York</td>\n",
              "      <td>NaN</td>\n",
              "      <td>4</td>\n",
              "      <td>0.0</td>\n",
              "    </tr>\n",
              "    <tr>\n",
              "      <th>...</th>\n",
              "      <td>...</td>\n",
              "      <td>...</td>\n",
              "      <td>...</td>\n",
              "      <td>...</td>\n",
              "      <td>...</td>\n",
              "      <td>...</td>\n",
              "    </tr>\n",
              "    <tr>\n",
              "      <th>945107</th>\n",
              "      <td>2021-01-19</td>\n",
              "      <td>New York City</td>\n",
              "      <td>New York</td>\n",
              "      <td>NaN</td>\n",
              "      <td>541846</td>\n",
              "      <td>26161.0</td>\n",
              "    </tr>\n",
              "    <tr>\n",
              "      <th>948354</th>\n",
              "      <td>2021-01-20</td>\n",
              "      <td>New York City</td>\n",
              "      <td>New York</td>\n",
              "      <td>NaN</td>\n",
              "      <td>546195</td>\n",
              "      <td>26249.0</td>\n",
              "    </tr>\n",
              "    <tr>\n",
              "      <th>951599</th>\n",
              "      <td>2021-01-21</td>\n",
              "      <td>New York City</td>\n",
              "      <td>New York</td>\n",
              "      <td>NaN</td>\n",
              "      <td>551415</td>\n",
              "      <td>26331.0</td>\n",
              "    </tr>\n",
              "    <tr>\n",
              "      <th>954844</th>\n",
              "      <td>2021-01-22</td>\n",
              "      <td>New York City</td>\n",
              "      <td>New York</td>\n",
              "      <td>NaN</td>\n",
              "      <td>558262</td>\n",
              "      <td>26398.0</td>\n",
              "    </tr>\n",
              "    <tr>\n",
              "      <th>958090</th>\n",
              "      <td>2021-01-23</td>\n",
              "      <td>New York City</td>\n",
              "      <td>New York</td>\n",
              "      <td>NaN</td>\n",
              "      <td>564245</td>\n",
              "      <td>26466.0</td>\n",
              "    </tr>\n",
              "  </tbody>\n",
              "</table>\n",
              "<p>329 rows × 6 columns</p>\n",
              "</div>"
            ],
            "text/plain": [
              "              date         county     state  fips   cases   deaths\n",
              "416     2020-03-01  New York City  New York   NaN       1      0.0\n",
              "448     2020-03-02  New York City  New York   NaN       1      0.0\n",
              "482     2020-03-03  New York City  New York   NaN       2      0.0\n",
              "518     2020-03-04  New York City  New York   NaN       2      0.0\n",
              "565     2020-03-05  New York City  New York   NaN       4      0.0\n",
              "...            ...            ...       ...   ...     ...      ...\n",
              "945107  2021-01-19  New York City  New York   NaN  541846  26161.0\n",
              "948354  2021-01-20  New York City  New York   NaN  546195  26249.0\n",
              "951599  2021-01-21  New York City  New York   NaN  551415  26331.0\n",
              "954844  2021-01-22  New York City  New York   NaN  558262  26398.0\n",
              "958090  2021-01-23  New York City  New York   NaN  564245  26466.0\n",
              "\n",
              "[329 rows x 6 columns]"
            ]
          },
          "metadata": {
            "tags": []
          },
          "execution_count": 19
        }
      ]
    },
    {
      "cell_type": "code",
      "metadata": {
        "id": "nqnnsh0WSGJu"
      },
      "source": [
        "import matplotlib.pyplot as plt\r\n"
      ],
      "execution_count": 20,
      "outputs": []
    },
    {
      "cell_type": "code",
      "metadata": {
        "colab": {
          "base_uri": "https://localhost:8080/",
          "height": 1000
        },
        "id": "x-ODr-3QgyeP",
        "outputId": "2bae6684-8f6c-46ea-a91f-ba9859748cde"
      },
      "source": [
        "NYC_Latest_Cases = NYC_df[(df['date'] > '2020-12-21') & (df['date'] < '2021-01-23')]\r\n",
        "NYC_Latest_Cases\r\n"
      ],
      "execution_count": 25,
      "outputs": [
        {
          "output_type": "stream",
          "text": [
            "/usr/local/lib/python3.6/dist-packages/ipykernel_launcher.py:1: UserWarning: Boolean Series key will be reindexed to match DataFrame index.\n",
            "  \"\"\"Entry point for launching an IPython kernel.\n"
          ],
          "name": "stderr"
        },
        {
          "output_type": "execute_result",
          "data": {
            "text/html": [
              "<div>\n",
              "<style scoped>\n",
              "    .dataframe tbody tr th:only-of-type {\n",
              "        vertical-align: middle;\n",
              "    }\n",
              "\n",
              "    .dataframe tbody tr th {\n",
              "        vertical-align: top;\n",
              "    }\n",
              "\n",
              "    .dataframe thead th {\n",
              "        text-align: right;\n",
              "    }\n",
              "</style>\n",
              "<table border=\"1\" class=\"dataframe\">\n",
              "  <thead>\n",
              "    <tr style=\"text-align: right;\">\n",
              "      <th></th>\n",
              "      <th>date</th>\n",
              "      <th>county</th>\n",
              "      <th>state</th>\n",
              "      <th>fips</th>\n",
              "      <th>cases</th>\n",
              "      <th>deaths</th>\n",
              "    </tr>\n",
              "  </thead>\n",
              "  <tbody>\n",
              "    <tr>\n",
              "      <th>854240</th>\n",
              "      <td>2020-12-22</td>\n",
              "      <td>New York City</td>\n",
              "      <td>New York</td>\n",
              "      <td>NaN</td>\n",
              "      <td>391634</td>\n",
              "      <td>24768.0</td>\n",
              "    </tr>\n",
              "    <tr>\n",
              "      <th>857485</th>\n",
              "      <td>2020-12-23</td>\n",
              "      <td>New York City</td>\n",
              "      <td>New York</td>\n",
              "      <td>NaN</td>\n",
              "      <td>395810</td>\n",
              "      <td>24790.0</td>\n",
              "    </tr>\n",
              "    <tr>\n",
              "      <th>860730</th>\n",
              "      <td>2020-12-24</td>\n",
              "      <td>New York City</td>\n",
              "      <td>New York</td>\n",
              "      <td>NaN</td>\n",
              "      <td>401251</td>\n",
              "      <td>24842.0</td>\n",
              "    </tr>\n",
              "    <tr>\n",
              "      <th>863975</th>\n",
              "      <td>2020-12-25</td>\n",
              "      <td>New York City</td>\n",
              "      <td>New York</td>\n",
              "      <td>NaN</td>\n",
              "      <td>405857</td>\n",
              "      <td>24889.0</td>\n",
              "    </tr>\n",
              "    <tr>\n",
              "      <th>867220</th>\n",
              "      <td>2020-12-26</td>\n",
              "      <td>New York City</td>\n",
              "      <td>New York</td>\n",
              "      <td>NaN</td>\n",
              "      <td>410048</td>\n",
              "      <td>24931.0</td>\n",
              "    </tr>\n",
              "    <tr>\n",
              "      <th>870465</th>\n",
              "      <td>2020-12-27</td>\n",
              "      <td>New York City</td>\n",
              "      <td>New York</td>\n",
              "      <td>NaN</td>\n",
              "      <td>413472</td>\n",
              "      <td>24973.0</td>\n",
              "    </tr>\n",
              "    <tr>\n",
              "      <th>873710</th>\n",
              "      <td>2020-12-28</td>\n",
              "      <td>New York City</td>\n",
              "      <td>New York</td>\n",
              "      <td>NaN</td>\n",
              "      <td>416922</td>\n",
              "      <td>25008.0</td>\n",
              "    </tr>\n",
              "    <tr>\n",
              "      <th>876955</th>\n",
              "      <td>2020-12-29</td>\n",
              "      <td>New York City</td>\n",
              "      <td>New York</td>\n",
              "      <td>NaN</td>\n",
              "      <td>422074</td>\n",
              "      <td>25055.0</td>\n",
              "    </tr>\n",
              "    <tr>\n",
              "      <th>880200</th>\n",
              "      <td>2020-12-30</td>\n",
              "      <td>New York City</td>\n",
              "      <td>New York</td>\n",
              "      <td>NaN</td>\n",
              "      <td>426279</td>\n",
              "      <td>25099.0</td>\n",
              "    </tr>\n",
              "    <tr>\n",
              "      <th>883445</th>\n",
              "      <td>2020-12-31</td>\n",
              "      <td>New York City</td>\n",
              "      <td>New York</td>\n",
              "      <td>NaN</td>\n",
              "      <td>430863</td>\n",
              "      <td>25144.0</td>\n",
              "    </tr>\n",
              "    <tr>\n",
              "      <th>886690</th>\n",
              "      <td>2021-01-01</td>\n",
              "      <td>New York City</td>\n",
              "      <td>New York</td>\n",
              "      <td>NaN</td>\n",
              "      <td>436692</td>\n",
              "      <td>25186.0</td>\n",
              "    </tr>\n",
              "    <tr>\n",
              "      <th>889937</th>\n",
              "      <td>2021-01-02</td>\n",
              "      <td>New York City</td>\n",
              "      <td>New York</td>\n",
              "      <td>NaN</td>\n",
              "      <td>442695</td>\n",
              "      <td>25211.0</td>\n",
              "    </tr>\n",
              "    <tr>\n",
              "      <th>893183</th>\n",
              "      <td>2021-01-03</td>\n",
              "      <td>New York City</td>\n",
              "      <td>New York</td>\n",
              "      <td>NaN</td>\n",
              "      <td>446899</td>\n",
              "      <td>25244.0</td>\n",
              "    </tr>\n",
              "    <tr>\n",
              "      <th>896429</th>\n",
              "      <td>2021-01-04</td>\n",
              "      <td>New York City</td>\n",
              "      <td>New York</td>\n",
              "      <td>NaN</td>\n",
              "      <td>450658</td>\n",
              "      <td>25284.0</td>\n",
              "    </tr>\n",
              "    <tr>\n",
              "      <th>899674</th>\n",
              "      <td>2021-01-05</td>\n",
              "      <td>New York City</td>\n",
              "      <td>New York</td>\n",
              "      <td>NaN</td>\n",
              "      <td>455997</td>\n",
              "      <td>25309.0</td>\n",
              "    </tr>\n",
              "    <tr>\n",
              "      <th>902919</th>\n",
              "      <td>2021-01-06</td>\n",
              "      <td>New York City</td>\n",
              "      <td>New York</td>\n",
              "      <td>NaN</td>\n",
              "      <td>460988</td>\n",
              "      <td>25362.0</td>\n",
              "    </tr>\n",
              "    <tr>\n",
              "      <th>906165</th>\n",
              "      <td>2021-01-07</td>\n",
              "      <td>New York City</td>\n",
              "      <td>New York</td>\n",
              "      <td>NaN</td>\n",
              "      <td>467327</td>\n",
              "      <td>25416.0</td>\n",
              "    </tr>\n",
              "    <tr>\n",
              "      <th>909410</th>\n",
              "      <td>2021-01-08</td>\n",
              "      <td>New York City</td>\n",
              "      <td>New York</td>\n",
              "      <td>NaN</td>\n",
              "      <td>474339</td>\n",
              "      <td>25453.0</td>\n",
              "    </tr>\n",
              "    <tr>\n",
              "      <th>912655</th>\n",
              "      <td>2021-01-09</td>\n",
              "      <td>New York City</td>\n",
              "      <td>New York</td>\n",
              "      <td>NaN</td>\n",
              "      <td>481279</td>\n",
              "      <td>25505.0</td>\n",
              "    </tr>\n",
              "    <tr>\n",
              "      <th>915900</th>\n",
              "      <td>2021-01-10</td>\n",
              "      <td>New York City</td>\n",
              "      <td>New York</td>\n",
              "      <td>NaN</td>\n",
              "      <td>487551</td>\n",
              "      <td>25562.0</td>\n",
              "    </tr>\n",
              "    <tr>\n",
              "      <th>919145</th>\n",
              "      <td>2021-01-11</td>\n",
              "      <td>New York City</td>\n",
              "      <td>New York</td>\n",
              "      <td>NaN</td>\n",
              "      <td>493306</td>\n",
              "      <td>25635.0</td>\n",
              "    </tr>\n",
              "    <tr>\n",
              "      <th>922390</th>\n",
              "      <td>2021-01-12</td>\n",
              "      <td>New York City</td>\n",
              "      <td>New York</td>\n",
              "      <td>NaN</td>\n",
              "      <td>498877</td>\n",
              "      <td>25698.0</td>\n",
              "    </tr>\n",
              "    <tr>\n",
              "      <th>925636</th>\n",
              "      <td>2021-01-13</td>\n",
              "      <td>New York City</td>\n",
              "      <td>New York</td>\n",
              "      <td>NaN</td>\n",
              "      <td>504826</td>\n",
              "      <td>25741.0</td>\n",
              "    </tr>\n",
              "    <tr>\n",
              "      <th>928881</th>\n",
              "      <td>2021-01-14</td>\n",
              "      <td>New York City</td>\n",
              "      <td>New York</td>\n",
              "      <td>NaN</td>\n",
              "      <td>510711</td>\n",
              "      <td>25834.0</td>\n",
              "    </tr>\n",
              "    <tr>\n",
              "      <th>932126</th>\n",
              "      <td>2021-01-15</td>\n",
              "      <td>New York City</td>\n",
              "      <td>New York</td>\n",
              "      <td>NaN</td>\n",
              "      <td>517963</td>\n",
              "      <td>25909.0</td>\n",
              "    </tr>\n",
              "    <tr>\n",
              "      <th>935371</th>\n",
              "      <td>2021-01-16</td>\n",
              "      <td>New York City</td>\n",
              "      <td>New York</td>\n",
              "      <td>NaN</td>\n",
              "      <td>524231</td>\n",
              "      <td>25970.0</td>\n",
              "    </tr>\n",
              "    <tr>\n",
              "      <th>938616</th>\n",
              "      <td>2021-01-17</td>\n",
              "      <td>New York City</td>\n",
              "      <td>New York</td>\n",
              "      <td>NaN</td>\n",
              "      <td>529834</td>\n",
              "      <td>26036.0</td>\n",
              "    </tr>\n",
              "    <tr>\n",
              "      <th>941861</th>\n",
              "      <td>2021-01-18</td>\n",
              "      <td>New York City</td>\n",
              "      <td>New York</td>\n",
              "      <td>NaN</td>\n",
              "      <td>536287</td>\n",
              "      <td>26104.0</td>\n",
              "    </tr>\n",
              "    <tr>\n",
              "      <th>945107</th>\n",
              "      <td>2021-01-19</td>\n",
              "      <td>New York City</td>\n",
              "      <td>New York</td>\n",
              "      <td>NaN</td>\n",
              "      <td>541846</td>\n",
              "      <td>26161.0</td>\n",
              "    </tr>\n",
              "    <tr>\n",
              "      <th>948354</th>\n",
              "      <td>2021-01-20</td>\n",
              "      <td>New York City</td>\n",
              "      <td>New York</td>\n",
              "      <td>NaN</td>\n",
              "      <td>546195</td>\n",
              "      <td>26249.0</td>\n",
              "    </tr>\n",
              "    <tr>\n",
              "      <th>951599</th>\n",
              "      <td>2021-01-21</td>\n",
              "      <td>New York City</td>\n",
              "      <td>New York</td>\n",
              "      <td>NaN</td>\n",
              "      <td>551415</td>\n",
              "      <td>26331.0</td>\n",
              "    </tr>\n",
              "    <tr>\n",
              "      <th>954844</th>\n",
              "      <td>2021-01-22</td>\n",
              "      <td>New York City</td>\n",
              "      <td>New York</td>\n",
              "      <td>NaN</td>\n",
              "      <td>558262</td>\n",
              "      <td>26398.0</td>\n",
              "    </tr>\n",
              "  </tbody>\n",
              "</table>\n",
              "</div>"
            ],
            "text/plain": [
              "              date         county     state  fips   cases   deaths\n",
              "854240  2020-12-22  New York City  New York   NaN  391634  24768.0\n",
              "857485  2020-12-23  New York City  New York   NaN  395810  24790.0\n",
              "860730  2020-12-24  New York City  New York   NaN  401251  24842.0\n",
              "863975  2020-12-25  New York City  New York   NaN  405857  24889.0\n",
              "867220  2020-12-26  New York City  New York   NaN  410048  24931.0\n",
              "870465  2020-12-27  New York City  New York   NaN  413472  24973.0\n",
              "873710  2020-12-28  New York City  New York   NaN  416922  25008.0\n",
              "876955  2020-12-29  New York City  New York   NaN  422074  25055.0\n",
              "880200  2020-12-30  New York City  New York   NaN  426279  25099.0\n",
              "883445  2020-12-31  New York City  New York   NaN  430863  25144.0\n",
              "886690  2021-01-01  New York City  New York   NaN  436692  25186.0\n",
              "889937  2021-01-02  New York City  New York   NaN  442695  25211.0\n",
              "893183  2021-01-03  New York City  New York   NaN  446899  25244.0\n",
              "896429  2021-01-04  New York City  New York   NaN  450658  25284.0\n",
              "899674  2021-01-05  New York City  New York   NaN  455997  25309.0\n",
              "902919  2021-01-06  New York City  New York   NaN  460988  25362.0\n",
              "906165  2021-01-07  New York City  New York   NaN  467327  25416.0\n",
              "909410  2021-01-08  New York City  New York   NaN  474339  25453.0\n",
              "912655  2021-01-09  New York City  New York   NaN  481279  25505.0\n",
              "915900  2021-01-10  New York City  New York   NaN  487551  25562.0\n",
              "919145  2021-01-11  New York City  New York   NaN  493306  25635.0\n",
              "922390  2021-01-12  New York City  New York   NaN  498877  25698.0\n",
              "925636  2021-01-13  New York City  New York   NaN  504826  25741.0\n",
              "928881  2021-01-14  New York City  New York   NaN  510711  25834.0\n",
              "932126  2021-01-15  New York City  New York   NaN  517963  25909.0\n",
              "935371  2021-01-16  New York City  New York   NaN  524231  25970.0\n",
              "938616  2021-01-17  New York City  New York   NaN  529834  26036.0\n",
              "941861  2021-01-18  New York City  New York   NaN  536287  26104.0\n",
              "945107  2021-01-19  New York City  New York   NaN  541846  26161.0\n",
              "948354  2021-01-20  New York City  New York   NaN  546195  26249.0\n",
              "951599  2021-01-21  New York City  New York   NaN  551415  26331.0\n",
              "954844  2021-01-22  New York City  New York   NaN  558262  26398.0"
            ]
          },
          "metadata": {
            "tags": []
          },
          "execution_count": 25
        }
      ]
    },
    {
      "cell_type": "code",
      "metadata": {
        "colab": {
          "base_uri": "https://localhost:8080/",
          "height": 295
        },
        "id": "fIz1EZnBhXIU",
        "outputId": "2ef0bccc-2df2-4b8d-8be9-b26a7e756ca7"
      },
      "source": [
        "NYC_Latest_Cases = NYC_df[['deaths','cases']]\r\n",
        "NYC_Latest_Cases.plot()"
      ],
      "execution_count": 26,
      "outputs": [
        {
          "output_type": "execute_result",
          "data": {
            "text/plain": [
              "<matplotlib.axes._subplots.AxesSubplot at 0x7fc583d73908>"
            ]
          },
          "metadata": {
            "tags": []
          },
          "execution_count": 26
        },
        {
          "output_type": "display_data",
          "data": {
            "image/png": "[encoded data removed]",
            "text/plain": [
              "<Figure size 432x288 with 1 Axes>"
            ]
          },
          "metadata": {
            "tags": [],
            "needs_background": "light"
          }
        }
      ]
    },
    {
      "cell_type": "code",
      "metadata": {
        "id": "2LWgw8XtiMQW"
      },
      "source": [
        "import seaborn as sns\r\n",
        "import matplotlib.pyplot as plt\r\n"
      ],
      "execution_count": 33,
      "outputs": []
    },
    {
      "cell_type": "code",
      "metadata": {
        "colab": {
          "base_uri": "https://localhost:8080/",
          "height": 386
        },
        "id": "cuWNI_jEn64Y",
        "outputId": "f33dbc56-b617-4516-c013-38c5c36673c3"
      },
      "source": [
        "sns.displot(NYC_Latest_Cases['cases'])"
      ],
      "execution_count": 36,
      "outputs": [
        {
          "output_type": "execute_result",
          "data": {
            "text/plain": [
              "<seaborn.axisgrid.FacetGrid at 0x7fc5750dbe80>"
            ]
          },
          "metadata": {
            "tags": []
          },
          "execution_count": 36
        },
        {
          "output_type": "display_data",
          "data": {
            "image/png": "[encoded data removed]",
            "text/plain": [
              "<Figure size 360x360 with 1 Axes>"
            ]
          },
          "metadata": {
            "tags": [],
            "needs_background": "light"
          }
        }
      ]
    },
    {
      "cell_type": "code",
      "metadata": {
        "colab": {
          "base_uri": "https://localhost:8080/",
          "height": 386
        },
        "id": "_06v1oVVpEfB",
        "outputId": "d5340a37-0f37-453a-928e-0f5126c3d67c"
      },
      "source": [
        "sns.displot(NYC_Latest_Cases['deaths'])"
      ],
      "execution_count": 37,
      "outputs": [
        {
          "output_type": "execute_result",
          "data": {
            "text/plain": [
              "<seaborn.axisgrid.FacetGrid at 0x7fc583c43da0>"
            ]
          },
          "metadata": {
            "tags": []
          },
          "execution_count": 37
        },
        {
          "output_type": "display_data",
          "data": {
            "image/png": "[encoded data removed]",
            "text/plain": [
              "<Figure size 360x360 with 1 Axes>"
            ]
          },
          "metadata": {
            "tags": [],
            "needs_background": "light"
          }
        }
      ]
    }
  ]
}